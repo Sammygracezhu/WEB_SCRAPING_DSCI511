{
  "nbformat": 4,
  "nbformat_minor": 0,
  "metadata": {
    "colab": {
      "name": "readme.ipynb",
      "provenance": [],
      "collapsed_sections": []
    },
    "kernelspec": {
      "name": "python3",
      "display_name": "Python 3"
    },
    "language_info": {
      "name": "python"
    }
  },
  "cells": [
    {
      "cell_type": "markdown",
      "metadata": {
        "id": "N1Tpa4gCjrGA"
      },
      "source": [
        "### **Project Title: Web Scraping with indeed and Craigslist**\n",
        "###By group 3: \n",
        "- Group member 1\n",
        "    - Name: Xuanwei Zhu\n",
        "    - Email: xuanwei.zhu@drexel.edu\n",
        "- Group member 2\n",
        "    - Name: Vidya Chenji \n",
        "    - Email: vidya.chenji@drexel.edu\n",
        "- Group member 3\n",
        "    - Name:  Nick Babcock\n",
        "    - Email: nb987@drexel.edu\n",
        "- Group member 4\n",
        "    - Name: Kunal Chhabria\n",
        "    - Email: kc3575@drexel.edu \n",
        "\n",
        "\n",
        "### 1. Project Background\n",
        "###    There are huge amount of data online, but what data we need and how to accquire them are very challanging. In this project, we use web scraping skills to retrieve and processing data from Indeed and Craigslist. We choose Indeed because it is a very popular for job search. The craigslist web, on the other hand, has many locations around the world and contains data related to our life closely. \n",
        "### 2. We use python3, requests and beautifulsoup to do web scraping. After that, we store data locally using MySql 8.0.\n",
        "### 3. Challenges: 1) the biggest challenge for web scraping is the website's structure, especially when they dislike web scraping with their pages. For example, Indeed changed it's website stucture on October, 2021 and built much more complicated website structures to limit web scraping. 2) Raw data from Internet is not always well structured. And sometime, some parts of data is not available. We need to process raw data and analysis them after we retrieve data from Internet. 3) Indeed and Craigslist, especially Indeed, may change their website in the future to make web scraping more challenging. Or they may prevent us from web scraping totally, like Glassdoor and other websites. \n"
      ]
    }
  ]
}